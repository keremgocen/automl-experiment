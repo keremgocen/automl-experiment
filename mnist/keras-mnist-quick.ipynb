{
 "cells": [
  {
   "cell_type": "code",
   "execution_count": 9,
   "metadata": {},
   "outputs": [
    {
     "name": "stdout",
     "output_type": "stream",
     "text": [
      "x_train shape: (60000, 28, 28, 1)\n",
      "Number of images in x_train 60000\n",
      "Number of images in x_test 10000\n",
      "Train on 60000 samples, validate on 10000 samples\n",
      "Epoch 1/5\n",
      "60000/60000 [==============================] - 7s 116us/step - loss: 0.2088 - acc: 0.9381 - val_loss: 0.0582 - val_acc: 0.9806\n",
      "Epoch 2/5\n",
      "60000/60000 [==============================] - 7s 108us/step - loss: 0.0713 - acc: 0.9782 - val_loss: 0.0412 - val_acc: 0.9860\n",
      "Epoch 3/5\n",
      "60000/60000 [==============================] - 7s 109us/step - loss: 0.0528 - acc: 0.9842 - val_loss: 0.0349 - val_acc: 0.9878\n",
      "Epoch 4/5\n",
      "60000/60000 [==============================] - 6s 108us/step - loss: 0.0441 - acc: 0.9862 - val_loss: 0.0287 - val_acc: 0.9900\n",
      "Epoch 5/5\n",
      "60000/60000 [==============================] - 6s 108us/step - loss: 0.0358 - acc: 0.9885 - val_loss: 0.0304 - val_acc: 0.9902\n",
      "Epoch 00005: early stopping\n",
      "10000/10000 [==============================] - 0s 39us/step\n",
      "0 6\n",
      "Final loss: 0.030411, final accuracy: 0.990200\n",
      "acc: 99.02%\n",
      "Saved model to disk\n"
     ]
    },
    {
     "data": {
      "image/png": "[encoded data removed]",
      "text/plain": [
       "<Figure size 432x288 with 1 Axes>"
      ]
     },
     "metadata": {
      "needs_background": "light"
     },
     "output_type": "display_data"
    }
   ],
   "source": [
    "from keras.layers import Dense, Conv2D, Dropout, Flatten, MaxPooling2D\n",
    "from keras.models import Sequential\n",
    "import tensorflow as tf\n",
    "import matplotlib.pyplot as plt\n",
    "import keras.callbacks as kcb\n",
    "\n",
    "# import os\n",
    "# os.environ['CUDA_VISIBLE_DEVICES'] = \"1\"\n",
    "\n",
    "model_checkpoint = kcb.ModelCheckpoint(\n",
    "    filepath='keras-weights.{epoch:02d}-{val_loss:.2f}.hdf5', monitor='val_loss')\n",
    "\n",
    "# early stopping\n",
    "# early_stop = kcb.EarlyStopping(monitor='val_acc',\n",
    "#                                min_delta=0.1,\n",
    "#                                patience=0,\n",
    "#                                verbose=1,\n",
    "#                                mode='auto')\n",
    "early_stop = kcb.EarlyStopping(monitor='val_loss', min_delta=0, patience=0, verbose=1)\n",
    "\n",
    "(x_train, y_train), (x_test, y_test) = tf.keras.datasets.mnist.load_data()\n",
    "\n",
    "x_train.shape\n",
    "\n",
    "# Reshaping the array to 4-dims so that it can work with the Keras API\n",
    "x_train = x_train.reshape(x_train.shape[0], 28, 28, 1)\n",
    "x_test = x_test.reshape(x_test.shape[0], 28, 28, 1)\n",
    "input_shape = (28, 28, 1)\n",
    "# Making sure that the values are float so that we can get decimal points after division\n",
    "x_train = x_train.astype('float32')\n",
    "x_test = x_test.astype('float32')\n",
    "# Normalizing the RGB codes by dividing it to the max RGB value.\n",
    "x_train /= 255\n",
    "x_test /= 255\n",
    "print('x_train shape:', x_train.shape)\n",
    "print('Number of images in x_train', x_train.shape[0])\n",
    "print('Number of images in x_test', x_test.shape[0])\n",
    "\n",
    "\n",
    "# Importing the required Keras modules containing model and layers\n",
    "# Creating a Sequential Model and adding the layers\n",
    "model = Sequential()\n",
    "model.add(Conv2D(28, kernel_size=(8, 4), input_shape=input_shape))\n",
    "model.add(MaxPooling2D(pool_size=(4, 6)))\n",
    "model.add(Flatten())  # Flattening the 2D arrays for fully connected layers\n",
    "model.add(Dense(128, activation=tf.nn.relu))\n",
    "model.add(Dropout(0.2))\n",
    "model.add(Dense(10, activation=tf.nn.softmax))\n",
    "\n",
    "epochs = 5\n",
    "model.compile(optimizer='adam',\n",
    "              loss='sparse_categorical_crossentropy',\n",
    "              metrics=['accuracy'])\n",
    "model.fit(x=x_train, y=y_train, epochs=epochs, validation_data=(\n",
    "    x_test, y_test), callbacks=[early_stop, model_checkpoint])\n",
    "\n",
    "final_loss, final_acc = model.evaluate(x_test, y_test)\n",
    "image_index = 445\n",
    "plt.imshow(x_test[image_index].reshape(28, 28), cmap='Greys')\n",
    "pred = model.predict(x_test[image_index].reshape(1, 28, 28, 1))\n",
    "print(pred.argmax(), y_test[image_index])\n",
    "\n",
    "# evaluate the model\n",
    "print(\"Final loss: {0:.6f}, final accuracy: {1:.6f}\".format(\n",
    "    final_loss, final_acc))\n",
    "\n",
    "print(\"%s: %.2f%%\" % (model.metrics_names[1], final_acc*100))\n",
    "\n",
    "# serialize model to JSON\n",
    "model_json = model.to_json()\n",
    "with open('keras-model.epoch-{0:02d}-loss-{1:.2f}-acc-{2:.2f}.hdf5'.format(epochs, final_loss, final_acc), 'w') as json_file:\n",
    "    json_file.write(model_json)\n",
    "# serialize weights to HDF5\n",
    "model.save_weights(\"keras-final-weights.epoch-{0:02d}-loss-{1:.2f}.hdf5\".format(epochs, final_loss))\n",
    "print(\"Saved model to disk\")\n"
   ]
  },
  {
   "cell_type": "code",
   "execution_count": null,
   "metadata": {},
   "outputs": [],
   "source": []
  }
 ],
 "metadata": {
  "kernelspec": {
   "display_name": "Python 3",
   "language": "python",
   "name": "python3"
  },
  "language_info": {
   "codemirror_mode": {
    "name": "ipython",
    "version": 3
   },
   "file_extension": ".py",
   "mimetype": "text/x-python",
   "name": "python",
   "nbconvert_exporter": "python",
   "pygments_lexer": "ipython3",
   "version": "3.6.8"
  }
 },
 "nbformat": 4,
 "nbformat_minor": 2
}
